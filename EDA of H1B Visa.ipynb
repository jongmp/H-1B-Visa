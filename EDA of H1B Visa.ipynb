{
 "cells": [
  {
   "cell_type": "markdown",
   "metadata": {},
   "source": [
    "## Exploratory Data Analysis of H-1B Visas"
   ]
  },
  {
   "cell_type": "markdown",
   "metadata": {},
   "source": [
    "How has Trump's Presidency affected H-1B Visas?"
   ]
  },
  {
   "cell_type": "code",
   "execution_count": 56,
   "metadata": {},
   "outputs": [],
   "source": [
    "# Importing packages\n",
    "import numpy as np\n",
    "import pandas as pd\n",
    "import matplotlib.pyplot as plt\n",
    "import seaborn as sns\n",
    "\n",
    "# Importing the Dataset\n",
    "df18 = pd.read_excel('/Users/jpar746/Desktop/Work/h1b18.xlsx')\n",
    "df17 = pd.read_csv('/Users/jpar746/Desktop/Work/h1b17.csv')\n",
    "df16 = pd.read_csv('/Users/jpar746/Desktop/Work/h1b16.csv')"
   ]
  },
  {
   "cell_type": "code",
   "execution_count": 57,
   "metadata": {},
   "outputs": [],
   "source": [
    "# Removing columns that are not necessary from data of df18 and df17\n",
    "df17 = df17[['CASE_STATUS','EMPLOYMENT_START_DATE','EMPLOYER_NAME',\n",
    "        'EMPLOYER_STATE','JOB_TITLE','SOC_NAME','PREVAILING_WAGE','PW_UNIT_OF_PAY']]\n",
    "\n",
    "df18 = df18[['CASE_STATUS','EMPLOYMENT_START_DATE','EMPLOYER_NAME',\n",
    "        'EMPLOYER_STATE','JOB_TITLE','SOC_NAME','PREVAILING_WAGE','PW_UNIT_OF_PAY']]\n",
    "\n",
    "# Changing the EMPLOYMENT_START_DATE into a year to comply with 2016 data\n",
    "df18['EMPLOYMENT_START_DATE'] = df18['EMPLOYMENT_START_DATE'].apply(lambda x: x.year)\n",
    "\n",
    "df17['EMPLOYMENT_START_DATE'] = pd.to_datetime(df17['EMPLOYMENT_START_DATE'], format = '%Y-%m-%d')\n",
    "df17['EMPLOYMENT_START_DATE'] = df17['EMPLOYMENT_START_DATE'].apply(lambda x: x.year)"
   ]
  },
  {
   "cell_type": "code",
   "execution_count": 58,
   "metadata": {},
   "outputs": [],
   "source": [
    "# Only take years 2017 from df17 and years 2018 from df18\n",
    "df17 = df17.loc[df17['EMPLOYMENT_START_DATE'] == 2017, :]\n",
    "df18 = df18.loc[df18['EMPLOYMENT_START_DATE'] == 2018, :]"
   ]
  },
  {
   "cell_type": "code",
   "execution_count": 59,
   "metadata": {},
   "outputs": [],
   "source": [
    "# Change PREVAILING WAGE into yearly wages (Split into Year, Week, Month, Hourly, Bi-weekly)\n",
    "df18.loc[df18.PREVAILING_WAGE == 0, 'PREVAILING_WAGE'] = np.nan\n",
    "df18.loc[df18.PW_UNIT_OF_PAY == 'Hour', 'PREVAILING_WAGE'] = df18['PREVAILING_WAGE']*1638\n",
    "df18.loc[df18.PW_UNIT_OF_PAY == 'Week', 'PREVAILING_WAGE'] = df18['PREVAILING_WAGE']*52\n",
    "df18.loc[df18.PW_UNIT_OF_PAY == 'Bi-Weekly', 'PREVAILING_WAGE'] = df18['PREVAILING_WAGE']*26\n",
    "df18.loc[df18.PW_UNIT_OF_PAY == 'Month', 'PREVAILING_WAGE'] = df18['PREVAILING_WAGE']*12\n",
    "\n",
    "df17.loc[df17.PREVAILING_WAGE == 0, 'PREVAILING_WAGE'] = np.nan\n",
    "df17.loc[df17.PW_UNIT_OF_PAY == 'Hour', 'PREVAILING_WAGE'] = df17['PREVAILING_WAGE']*1638\n",
    "df17.loc[df17.PW_UNIT_OF_PAY == 'Week', 'PREVAILING_WAGE'] = df17['PREVAILING_WAGE']*52\n",
    "df17.loc[df17.PW_UNIT_OF_PAY == 'Bi-Weekly', 'PREVAILING_WAGE'] = df17['PREVAILING_WAGE']*26\n",
    "df17.loc[df17.PW_UNIT_OF_PAY == 'Month', 'PREVAILING_WAGE'] = df17['PREVAILING_WAGE']*12\n",
    "\n",
    "# Remove PW_UNIT_OF_PAY \n",
    "df17 = df17[['CASE_STATUS','EMPLOYMENT_START_DATE','EMPLOYER_NAME',\n",
    "        'EMPLOYER_STATE','JOB_TITLE','SOC_NAME','PREVAILING_WAGE']]\n",
    "\n",
    "df18 = df18[['CASE_STATUS','EMPLOYMENT_START_DATE','EMPLOYER_NAME',\n",
    "        'EMPLOYER_STATE','JOB_TITLE','SOC_NAME','PREVAILING_WAGE']]"
   ]
  },
  {
   "cell_type": "code",
   "execution_count": 60,
   "metadata": {},
   "outputs": [],
   "source": [
    "# Dictionary of all States and Shortened State\n",
    "states = {\"AL\":\"Alabama\",\"AK\":\"Alaska\",\"AZ\":\"Arizona\",\"AR\":\"Arkansas\",\"CA\":\"California\",\"CO\":\"Colorado\",\n",
    "          \"CT\":\"Connecticut\",\"DE\":\"Delaware\",\"FL\":\"Florida\",\"GA\":\"Georgia\",\"HI\":\"Hawaii\",\"ID\":\"Idaho\",\n",
    "          \"IL\":\"Illinois\",\"IN\":\"Indiana\",\"IA\":\"Iowa\",\"KS\":\"Kansas\",\"KY\":\"Kentucky\",\"LA\":\"Louisiana\",\n",
    "          \"ME\":\"Maine\",\"MD\":\"Maryland\",\"MA\":\"Massachusetts\",\"MI\":\"Michigan\",\"MN\":\"Minnesota\",\"MS\":\"Mississippi\",\n",
    "          \"MO\":\"Missouri\",\"MT\":\"Montana\",\"NE\":\"Nebraska\",\"NV\":\"Nevada\",\"NH\":\"New Hampshire\",\"NJ\":\"New Jersey\",\n",
    "          \"NM\":\"New Mexico\",\"NY\":\"New York\",\"NC\":\"North Carolina\",\"ND\":\"North Dakota\",\"OH\":\"Ohio\",\"OK\":\"Oklahoma\",\n",
    "          \"OR\":\"Oregon\",\"PA\":\"Pennsylvania\",\"RI\":\"Rhode Island\",\"SC\":\"South Carolina\",\"SD\":\"South Dakota\",\n",
    "          \"TN\":\"Tennessee\",\"TX\":\"Texas\",\"UT\":\"Utah\",\"VT\":\"Vermont\",\"VA\":\"Virginia\",\"WA\":\"Washington\",\n",
    "          \"WV\":\"West Virginia\",\"WI\":\"Wisconsin\",\"WY\":\"Wyoming\"}\n",
    "states = dict((v.upper(), k.upper()) for k, v in states.items())\n",
    "\n",
    "# Remove the city from the WORKSITE \n",
    "df16['WORKSITE'] = df16['WORKSITE'].apply(lambda x: x.split(',')[1])\n",
    "# Removing the space infront of the states from WORKSITE\n",
    "df16['WORKSITE'] = df16['WORKSITE'].apply(lambda x: x[1:])\n",
    "# Replace Worksite with shortened States\n",
    "df16['WORKSITE'].replace(states, inplace = True)\n",
    "# Replace WORKSITE with EMPLOYER_STATE\n",
    "df16.rename(columns={'YEAR':'EMPLOYMENT_START_DATE','WORKSITE':'EMPLOYER_STATE'}, inplace=True)\n",
    "\n",
    "\n",
    "# Removing unnecessary columns of df16\n",
    "df16 = df16[['CASE_STATUS','EMPLOYMENT_START_DATE','EMPLOYER_NAME',\n",
    "        'EMPLOYER_STATE','JOB_TITLE','SOC_NAME','PREVAILING_WAGE']]"
   ]
  },
  {
   "cell_type": "code",
   "execution_count": 61,
   "metadata": {},
   "outputs": [
    {
     "name": "stdout",
     "output_type": "stream",
     "text": [
      "           CASE_STATUS  EMPLOYMENT_START_DATE  \\\n",
      "0  CERTIFIED-WITHDRAWN                 2016.0   \n",
      "1  CERTIFIED-WITHDRAWN                 2016.0   \n",
      "2  CERTIFIED-WITHDRAWN                 2016.0   \n",
      "3  CERTIFIED-WITHDRAWN                 2016.0   \n",
      "4            WITHDRAWN                 2016.0   \n",
      "\n",
      "                                       EMPLOYER_NAME EMPLOYER_STATE  \\\n",
      "0                             UNIVERSITY OF MICHIGAN             MI   \n",
      "1                             GOODMAN NETWORKS, INC.             TX   \n",
      "2                          PORTS AMERICA GROUP, INC.             NJ   \n",
      "3  GATES CORPORATION, A WHOLLY-OWNED SUBSIDIARY O...             CO   \n",
      "4                          PEABODY INVESTMENTS CORP.             MO   \n",
      "\n",
      "                      JOB_TITLE                       SOC_NAME  \\\n",
      "0  POSTDOCTORAL RESEARCH FELLOW  BIOCHEMISTS AND BIOPHYSICISTS   \n",
      "1       CHIEF OPERATING OFFICER               CHIEF EXECUTIVES   \n",
      "2         CHIEF PROCESS OFFICER               CHIEF EXECUTIVES   \n",
      "3   REGIONAL PRESIDEN, AMERICAS               CHIEF EXECUTIVES   \n",
      "4  PRESIDENT MONGOLIA AND INDIA               CHIEF EXECUTIVES   \n",
      "\n",
      "   PREVAILING_WAGE  \n",
      "0          36067.0  \n",
      "1         242674.0  \n",
      "2         193066.0  \n",
      "3         220314.0  \n",
      "4         157518.4  \n"
     ]
    }
   ],
   "source": [
    "# Combining df16, df17, df18 into one dataframe\n",
    "df = pd.concat([df16,df17,df18])\n",
    "print(df.head())"
   ]
  },
  {
   "cell_type": "code",
   "execution_count": 208,
   "metadata": {},
   "outputs": [],
   "source": [
    "# Cleaning the SOC_NAME \n",
    "df['SOC_NAME'] = df['SOC_NAME'].apply(lambda x: str(x).upper())\n",
    "df['SOC_NAME'] = df['SOC_NAME'].apply(lambda x:str(x).replace('COMPUTER SYSTEMS ANALYSTS','COMPUTER SYSTEMS ANALYST'))\n"
   ]
  },
  {
   "cell_type": "code",
   "execution_count": 209,
   "metadata": {},
   "outputs": [
    {
     "name": "stdout",
     "output_type": "stream",
     "text": [
      "2016.0    647803\n",
      "2015.0    618727\n",
      "2018.0    556038\n",
      "2017.0    530371\n",
      "2014.0    519427\n",
      "2013.0    442114\n",
      "2012.0    415607\n",
      "2011.0    358767\n",
      "Name: EMPLOYMENT_START_DATE, dtype: int64\n"
     ]
    }
   ],
   "source": [
    "# Looking at the number of applications per year \n",
    "year_app = df['EMPLOYMENT_START_DATE'].value_counts()\n",
    "print(year_app)"
   ]
  },
  {
   "cell_type": "markdown",
   "metadata": {},
   "source": [
    "From the series above, we can see that there are about 500,000 applicants every year. \n",
    "We can also see that there has been a decrease in the number of applications in 2017 and 2018 (Trump's Presidency) The figure below highlights the fall in the number of applicants in Trump's Presidency"
   ]
  },
  {
   "cell_type": "code",
   "execution_count": 210,
   "metadata": {},
   "outputs": [
    {
     "data": {
      "image/png": "[encoded data removed]",
      "text/plain": [
       "<Figure size 432x288 with 1 Axes>"
      ]
     },
     "metadata": {
      "needs_background": "light"
     },
     "output_type": "display_data"
    }
   ],
   "source": [
    "# Bar Chart of the number of applications\n",
    "year_app = year_app.sort_index()\n",
    "obama = pd.Series(year_app.values[0:6], index = year_app.index[0:6])\n",
    "trump = pd.Series(year_app.values[6:], index = year_app.index[6:])\n",
    "\n",
    "fig, ax = plt.subplots()\n",
    "plt.bar(obama.index, obama.values, align = 'center', alpha = 0.7,  linewidth=0)\n",
    "plt.bar(trump.index, trump.values, align = 'center', alpha = 0.7,  linewidth=0, color = '#FF0000')\n",
    "plt.legend(['Obama\\'s Presidency','Trump\\'s Presidency'],loc=2)\n",
    "plt.title('The Number of Applications from 2011 to 2018')\n",
    "plt.savefig('no of applications.png')"
   ]
  },
  {
   "cell_type": "code",
   "execution_count": 211,
   "metadata": {},
   "outputs": [
    {
     "name": "stdout",
     "output_type": "stream",
     "text": [
      "High five! You successfully sent some data to your account on plotly. View your plot in your browser at https://plot.ly/~jpar746/0 or inside your plot.ly account where it is named 'd3-cloropleth-map'\n"
     ]
    },
    {
     "data": {
      "text/html": [
       "<iframe id=\"igraph\" scrolling=\"no\" style=\"border:none;\" seamless=\"seamless\" src=\"https://plot.ly/~jpar746/0.embed\" height=\"525px\" width=\"100%\"></iframe>"
      ],
      "text/plain": [
       "<plotly.tools.PlotlyDisplay object>"
      ]
     },
     "execution_count": 211,
     "metadata": {},
     "output_type": "execute_result"
    }
   ],
   "source": [
    "# Heatmap of U.S. H1B visa applicants\n",
    "# Import statements \n",
    "import plotly as plotly\n",
    "import plotly.plotly as py\n",
    "import plotly.graph_objs as go\n",
    "import plotly.io as pio\n",
    "\n",
    "# Organizing by state \n",
    "df_heatmap = df.groupby('EMPLOYER_STATE')['CASE_STATUS'].count()\n",
    "\n",
    "scl = [\n",
    "    [0.0, 'rgb(242,240,247)'],\n",
    "    [0.2, 'rgb(218,218,235)'],\n",
    "    [0.4, 'rgb(188,189,220)'],\n",
    "    [0.6, 'rgb(158,154,200)'],\n",
    "    [0.8, 'rgb(117,107,177)'],\n",
    "    [1.0, 'rgb(84,39,143)']\n",
    "]\n",
    "\n",
    "data = [go.Choropleth(\n",
    "    colorscale = scl,\n",
    "    autocolorscale = False,\n",
    "    locations = df_heatmap.index,\n",
    "    z = df_heatmap.values.astype(float),\n",
    "    locationmode = 'USA-states',\n",
    "    marker = go.choropleth.Marker(\n",
    "        line = go.choropleth.marker.Line(\n",
    "            color = 'rgb(255,255,255)',\n",
    "            width = 2\n",
    "        )),\n",
    "    colorbar = go.choropleth.ColorBar(\n",
    "        title = \"\")\n",
    ")]\n",
    "\n",
    "layout = go.Layout(\n",
    "    title = go.layout.Title(\n",
    "        text = 'H1B Visa Applicants'\n",
    "    ),\n",
    "    geo = go.layout.Geo(\n",
    "        scope = 'usa',\n",
    "        projection = go.layout.geo.Projection(type = 'albers usa'),\n",
    "        showlakes = True,\n",
    "        lakecolor = 'rgb(255, 255, 255)'),\n",
    ")\n",
    "\n",
    "fig = go.Figure(data = data, layout = layout)\n",
    "plotly.tools.set_credentials_file(username='jpar746', api_key='z4DayxsEIqnFEGvEUhPO')\n",
    "py.iplot(fig, filename = 'd3-cloropleth-map')"
   ]
  },
  {
   "cell_type": "markdown",
   "metadata": {},
   "source": [
    "This choropleth map highlights the location of applicants. From the figure, we can see that the majority of the H-1B visa applicants are applying from California, New York, and Texas. \n"
   ]
  },
  {
   "cell_type": "code",
   "execution_count": 212,
   "metadata": {},
   "outputs": [
    {
     "name": "stdout",
     "output_type": "stream",
     "text": [
      "CERTIFIED                                             3615378\n",
      "CERTIFIED-WITHDRAWN                                    241703\n",
      "WITHDRAWN                                              122466\n",
      "DENIED                                                 109289\n",
      "PENDING QUALITY AND COMPLIANCE REVIEW - UNASSIGNED         15\n",
      "REJECTED                                                    2\n",
      "INVALIDATED                                                 1\n",
      "Name: CASE_STATUS, dtype: int64\n",
      "2.67%\n"
     ]
    }
   ],
   "source": [
    "# Comparing the number of applications that are accepted or denied (Ignore withdrawn)\n",
    "accept_arr = df['CASE_STATUS'].value_counts()\n",
    "print(accept_arr)\n",
    "accept_val = list(accept_arr)[0:4]\n",
    "accept_label = list(accept_arr.index)[0:4]\n",
    "\n",
    "# Out of all the applications we can see that only a small percentage are denied (Exactly 2.67%)\n",
    "denied = (accept_arr['DENIED'] / df.shape[0]).round(4)\n",
    "print(str(denied*100) + '%')"
   ]
  },
  {
   "cell_type": "code",
   "execution_count": 213,
   "metadata": {},
   "outputs": [
    {
     "data": {
      "image/png": "[encoded data removed]",
      "text/plain": [
       "<Figure size 432x288 with 1 Axes>"
      ]
     },
     "metadata": {},
     "output_type": "display_data"
    }
   ],
   "source": [
    "# Pie chart of accepted and denied applications \n",
    "fig, ax = plt.subplots()\n",
    "ax.pie(accept_val, explode = (0,0,0,0.25), labels = accept_label, autopct = '%1.1f%%',\n",
    "       pctdistance=1.2, labeldistance=1.4, wedgeprops={'alpha':0.7})\n",
    "ax.axis('equal')\n",
    "plt.title('Case Status')\n",
    "plt.show()"
   ]
  },
  {
   "cell_type": "markdown",
   "metadata": {},
   "source": [
    "It appears that the percentage of cases denied is really low. Upon further research, the denied percentage is not indicative of all the applications denied in the H-1B application process. Additional information is provided by the https://www.uscis.gov/sites/default/files/USCIS/Resources/Reports%20and%20Studies/Immigration%20Forms%20Data/BAHA/non-immigrant-worker-rfe-h-1b-quarterly-data-fy2015-fy2019-q1.pdf\n"
   ]
  },
  {
   "cell_type": "code",
   "execution_count": 214,
   "metadata": {},
   "outputs": [
    {
     "name": "stdout",
     "output_type": "stream",
     "text": [
      "2011    8.119476\n",
      "2012    5.075949\n",
      "2013    2.742732\n",
      "2014    2.290216\n",
      "2015    1.765399\n",
      "2016    1.416326\n",
      "2017    1.406563\n",
      "2018    1.345771\n",
      "dtype: float64\n"
     ]
    }
   ],
   "source": [
    "# Looking at the percentage denied over the years \n",
    "accept_per = df.groupby('EMPLOYMENT_START_DATE')['CASE_STATUS'].value_counts()\n",
    "year_per = []\n",
    "year = []\n",
    "for i in range(2011,2019):\n",
    "    year_per.append((accept_per.loc[[i,'DENIED'],'DENIED'].values[0] / accept_per.loc[[i]].sum())*100)\n",
    "    year.append(i)\n",
    "denied_per = pd.Series(year_per, index = year)\n",
    "print(denied_per)"
   ]
  },
  {
   "cell_type": "code",
   "execution_count": 215,
   "metadata": {},
   "outputs": [
    {
     "data": {
      "image/png": "[encoded data removed]",
      "text/plain": [
       "<Figure size 432x288 with 1 Axes>"
      ]
     },
     "metadata": {
      "needs_background": "light"
     },
     "output_type": "display_data"
    }
   ],
   "source": [
    "# Scatter plot to look at the increase and decrease in denied applications\n",
    "plt.plot(denied_per.index, denied_per.values, 'bo', linestyle='dashed')\n",
    "plt.title('Percentage of Denied Applicants')\n",
    "plt.xlabel('Year')\n",
    "plt.ylabel('% of Denied Applicants')\n",
    "plt.show()"
   ]
  },
  {
   "cell_type": "markdown",
   "metadata": {},
   "source": [
    "The data from the Department of Labor seems to have been collected after an initial screening from the USCIS\n",
    "United States Citizenship and Immigration Service. The data shown by the USCIS indicates an increase in the\n",
    "percentage of rejected applications\n",
    "\n",
    "https://www.uscis.gov/sites/default/files/USCIS/Resources/Reports%20and%20Studies/Immigration%20Forms%20Data/BAHA/non-immigrant-worker-rfe-h-1b-quarterly-data-fy2015-fy2019-q1.pdf\n"
   ]
  },
  {
   "cell_type": "code",
   "execution_count": 216,
   "metadata": {},
   "outputs": [
    {
     "data": {
      "image/png": "[encoded data removed]",
      "text/plain": [
       "<Figure size 432x288 with 1 Axes>"
      ]
     },
     "metadata": {
      "needs_background": "light"
     },
     "output_type": "display_data"
    }
   ],
   "source": [
    "uscis = pd.Series([95.7,93.9,92.6,84.5], index=[2015,2016,2017,2018])\n",
    "fig, ax = plt.subplots()\n",
    "bars = plt.bar(uscis.index, uscis.values, align = 'center', alpha = 0.7)\n",
    "plt.xticks([2015,2016,2017,2018])\n",
    "# Removing the frame\n",
    "for spine in plt.gca().spines.values():\n",
    "    spine.set_visible(False)\n",
    "# Removing the small ticks \n",
    "ax.tick_params(axis=u'both', which=u'both',length=0)\n",
    "# Removing Y ticks \n",
    "ax.set_yticklabels([])\n",
    "# Placing the values above the bar \n",
    "for rect in bars:\n",
    "        height = rect.get_height()\n",
    "        ax.text(rect.get_x() + rect.get_width()/2., 0.9*height, str(height)+'%',\n",
    "                ha='center', va='bottom', color = 'w')\n",
    "bars[2].set_color('#FF0000')\n",
    "bars[3].set_color('#FF0000')\n",
    "plt.title('Percentages of H-1B Accepted')\n",
    "plt.savefig('perc of applications.png')\n",
    "plt.show()"
   ]
  },
  {
   "cell_type": "code",
   "execution_count": 217,
   "metadata": {},
   "outputs": [
    {
     "name": "stdout",
     "output_type": "stream",
     "text": [
      "INFOSYS LIMITED                                    157815\n",
      "TATA CONSULTANCY SERVICES LIMITED                   89577\n",
      "WIPRO LIMITED                                       57551\n",
      "DELOITTE CONSULTING LLP                             56975\n",
      "IBM INDIA PRIVATE LIMITED                           44229\n",
      "ACCENTURE LLP                                       43942\n",
      "MICROSOFT CORPORATION                               33738\n",
      "CAPGEMINI AMERICA INC                               29182\n",
      "ERNST & YOUNG U.S. LLP                              28813\n",
      "HCL AMERICA, INC.                                   28065\n",
      "TECH MAHINDRA (AMERICAS),INC.                       23281\n",
      "LARSEN & TOUBRO INFOTECH LIMITED                    21708\n",
      "COGNIZANT TECHNOLOGY SOLUTIONS U.S. CORPORATION     21486\n",
      "GOOGLE INC.                                         20685\n",
      "IBM CORPORATION                                     19758\n",
      "INTEL CORPORATION                                   13712\n",
      "AMAZON CORPORATE LLC                                12631\n",
      "IGATE TECHNOLOGIES INC.                             12564\n",
      "DELOITTE & TOUCHE LLP                               12236\n",
      "COGNIZANT TECHNOLOGY SOLUTIONS US CORP              11071\n",
      "Name: EMPLOYER_NAME, dtype: int64\n"
     ]
    }
   ],
   "source": [
    "# Looking at 20 companies that provide the most H1B visas\n",
    "common_co = df['EMPLOYER_NAME'].value_counts()\n",
    "print(common_co[:20])"
   ]
  },
  {
   "cell_type": "code",
   "execution_count": 218,
   "metadata": {},
   "outputs": [
    {
     "data": {
      "image/png": "[encoded data removed]",
      "text/plain": [
       "<Figure size 432x288 with 1 Axes>"
      ]
     },
     "metadata": {
      "needs_background": "light"
     },
     "output_type": "display_data"
    }
   ],
   "source": [
    "# Bar Chart of companies that provide the most H1B visas\n",
    "common_co_name = list(common_co[0:10].index)\n",
    "common_co_freq = list(common_co[0:10])\n",
    "\n",
    "y_pos = np.arange(len(common_co_name))\n",
    "\n",
    "# Plotting a horizontal bar chart\n",
    "fig, ax = plt.subplots()\n",
    "bars = plt.barh(y_pos, common_co_freq, align = 'center', alpha = 0.7)\n",
    "\n",
    "# Labeling the bar chart\n",
    "plt.yticks(y_pos, common_co_name)\n",
    "\n",
    "# Removing the frame for a cleaner visual\n",
    "for spine in plt.gca().spines.values():\n",
    "    spine.set_visible(False)\n",
    "    \n",
    "# Removing the small y ticks\n",
    "ax.tick_params(axis=u'both', which=u'both',length=0)\n",
    "\n",
    "# Directly labeling the values of the bar chart \n",
    "i = 0\n",
    "for bar in bars:\n",
    "    plt.gca().text(bar.get_x() + bar.get_width()-21000, i-0.15, str(int(bar.get_width())), \n",
    "                 ha='left', color='w', fontsize=11)\n",
    "    i = i+1\n",
    "    \n",
    "# Removing the x-ticks\n",
    "plt.tick_params(axis='x', which='both', bottom=False, top=False, labelbottom=False)\n",
    "\n",
    "# Setting the title \n",
    "plt.title('Companies that provide the most H1B Visas')\n",
    "plt.savefig('co of applications.png', bbox_inches='tight')"
   ]
  },
  {
   "cell_type": "markdown",
   "metadata": {},
   "source": [
    "The figure above illustrates the ten companies that have submitted the most number of H-1B Visas. We can observe that the top three companies are all from the technology sector. In fact, most of the companies that apply for H-1B visas are from the technology sector."
   ]
  },
  {
   "cell_type": "code",
   "execution_count": 219,
   "metadata": {},
   "outputs": [
    {
     "name": "stdout",
     "output_type": "stream",
     "text": [
      "['SOFTWARE DEVELOPERS, APPLICATIONS', 'COMPUTER SYSTEMS ANALYST', 'COMPUTER PROGRAMMERS', 'COMPUTER OCCUPATIONS, ALL OTHER', 'SOFTWARE DEVELOPERS, SYSTEMS SOFTWARE', 'MANAGEMENT ANALYSTS', 'ACCOUNTANTS AND AUDITORS', 'FINANCIAL ANALYSTS', 'MECHANICAL ENGINEERS', 'NETWORK AND COMPUTER SYSTEMS ADMINISTRATORS']\n"
     ]
    }
   ],
   "source": [
    "# The 10 most common types of jobs that H1B visa are granted for\n",
    "common_type = df['SOC_NAME'].value_counts()\n",
    "print(list(common_type[:10].index))\n",
    "# From the first 10 jobs, we can see that majority of these jobs are related to technology (computers)"
   ]
  },
  {
   "cell_type": "code",
   "execution_count": 220,
   "metadata": {},
   "outputs": [
    {
     "name": "stdout",
     "output_type": "stream",
     "text": [
      "['PROGRAMMER ANALYST', 'SOFTWARE ENGINEER', 'SOFTWARE DEVELOPER', 'COMPUTER PROGRAMMER', 'SYSTEMS ANALYST', 'BUSINESS ANALYST', 'COMPUTER SYSTEMS ANALYST', 'SENIOR SOFTWARE ENGINEER', 'ASSISTANT PROFESSOR', 'TECHNOLOGY LEAD - US']\n"
     ]
    }
   ],
   "source": [
    "# The 10 most common job titles \n",
    "common_job = df['JOB_TITLE'].value_counts()\n",
    "print(list(common_job[:10].index))"
   ]
  },
  {
   "cell_type": "code",
   "execution_count": 125,
   "metadata": {},
   "outputs": [
    {
     "name": "stdout",
     "output_type": "stream",
     "text": [
      "63503\n"
     ]
    }
   ],
   "source": [
    "# Looking at data science roles (related like business analyst, data analyst, data engineer) for H1B Visas\n",
    "data_science_only = df.loc[df['JOB_TITLE']=='DATA SCIENTIST']\n",
    "bus_analyst = df.loc[df['JOB_TITLE']=='BUSINESS ANALYST']\n",
    "data_analyst = df.loc[df['JOB_TITLE']=='DATA ANALYST']\n",
    "data_eng = df.loc[df['JOB_TITLE']=='DATA ENGINEER']\n",
    "data_science = pd.concat([data_science_only,bus_analyst,data_analyst,data_eng])\n",
    "\n",
    "# Number of data science and similar roles h1b visas granted\n",
    "print(data_science.shape[0])"
   ]
  },
  {
   "cell_type": "markdown",
   "metadata": {},
   "source": [
    "As an aspiring data scientist, I thought that it would be interesting to explore the H-1B application process for data scientist. There were 63,503 applications for data scientists. "
   ]
  },
  {
   "cell_type": "code",
   "execution_count": 126,
   "metadata": {},
   "outputs": [
    {
     "data": {
      "text/plain": [
       "count    4.088677e+06\n",
       "mean     1.374640e+05\n",
       "std      4.659213e+06\n",
       "min      0.000000e+00\n",
       "25%      5.580600e+04\n",
       "50%      6.780800e+04\n",
       "75%      8.525900e+04\n",
       "max      6.997607e+09\n",
       "Name: PREVAILING_WAGE, dtype: float64"
      ]
     },
     "execution_count": 126,
     "metadata": {},
     "output_type": "execute_result"
    }
   ],
   "source": [
    "# Looking at the prevailing wages of data science jobs vs other h1b visa jobs\n",
    "data_science['PREVAILING_WAGE'].describe()\n",
    "\n",
    "# Non-data science jobs' salaries\n",
    "not_data_science = df[(df['JOB_TITLE'] != 'DATA SCIENTIST | BUSINESS ANALYST | DATA ANALYST | DATA ENGINEER')]\n",
    "not_data_science['PREVAILING_WAGE'].describe()"
   ]
  },
  {
   "cell_type": "code",
   "execution_count": 134,
   "metadata": {},
   "outputs": [
    {
     "data": {
      "image/png": "[encoded data removed]",
      "text/plain": [
       "<Figure size 432x288 with 1 Axes>"
      ]
     },
     "metadata": {
      "needs_background": "light"
     },
     "output_type": "display_data"
    }
   ],
   "source": [
    "# Boxplot for data science and non data science wages\n",
    "# Turning values into lists for plotting\n",
    "data_science = data_science.reset_index(drop=True)\n",
    "not_data_science = not_data_science.reset_index(drop=True)\n",
    "plot_box_df = pd.concat([not_data_science['PREVAILING_WAGE'],data_science['PREVAILING_WAGE']],\n",
    "                        keys=['Not Data Science','Data Science'],axis=1)\n",
    "\n",
    "sns.boxplot( data = plot_box_df, palette=\"Blues\", showfliers=False)\n",
    "axes = plt.gca()\n",
    "axes.set_ylim([0,150000])\n",
    "plt.title('Wages for Non Data Science and Data Science Jobs')\n",
    "plt.show()"
   ]
  },
  {
   "cell_type": "markdown",
   "metadata": {},
   "source": [
    "By comparing the wages for non data science jobs and data science jobs, It appears that there is not a massive difference in the median and mean wage of data science jobs. Both the median appear to be between 60,000 and 80,000. However, the non data science jobs tend to have a larger interquartile range which could be explained by the diverse jobs that other H-1B applicants had."
   ]
  },
  {
   "cell_type": "code",
   "execution_count": 135,
   "metadata": {},
   "outputs": [
    {
     "name": "stdout",
     "output_type": "stream",
     "text": [
      "High five! You successfully sent some data to your account on plotly. View your plot in your browser at https://plot.ly/~jpar746/0 or inside your plot.ly account where it is named 'd3-cloropleth-map'\n"
     ]
    },
    {
     "data": {
      "text/html": [
       "<iframe id=\"igraph\" scrolling=\"no\" style=\"border:none;\" seamless=\"seamless\" src=\"https://plot.ly/~jpar746/0.embed\" height=\"525px\" width=\"100%\"></iframe>"
      ],
      "text/plain": [
       "<plotly.tools.PlotlyDisplay object>"
      ]
     },
     "execution_count": 135,
     "metadata": {},
     "output_type": "execute_result"
    }
   ],
   "source": [
    "# Location for Data Science jobs (H1B Applicants)\n",
    "ds_heatmap = data_science.groupby('EMPLOYER_STATE')['CASE_STATUS'].count()\n",
    "\n",
    "scl = [\n",
    "    [0.0, 'rgb(242,240,247)'],\n",
    "    [0.2, 'rgb(218,218,235)'],\n",
    "    [0.4, 'rgb(188,189,220)'],\n",
    "    [0.6, 'rgb(158,154,200)'],\n",
    "    [0.8, 'rgb(117,107,177)'],\n",
    "    [1.0, 'rgb(84,39,143)']\n",
    "]\n",
    "\n",
    "data = [go.Choropleth(\n",
    "    colorscale = scl,\n",
    "    autocolorscale = False,\n",
    "    locations = ds_heatmap.index,\n",
    "    z = ds_heatmap.values.astype(float),\n",
    "    locationmode = 'USA-states',\n",
    "    marker = go.choropleth.Marker(\n",
    "        line = go.choropleth.marker.Line(\n",
    "            color = 'rgb(255,255,255)',\n",
    "            width = 2\n",
    "        )),\n",
    "    colorbar = go.choropleth.ColorBar(\n",
    "        title = \"\")\n",
    ")]\n",
    "\n",
    "layout = go.Layout(\n",
    "    title = go.layout.Title(\n",
    "        text = 'H1B Data Science Applicants'\n",
    "    ),\n",
    "    geo = go.layout.Geo(\n",
    "        scope = 'usa',\n",
    "        projection = go.layout.geo.Projection(type = 'albers usa'),\n",
    "        showlakes = True,\n",
    "        lakecolor = 'rgb(255, 255, 255)'),\n",
    ")\n",
    "\n",
    "fig = go.Figure(data = data, layout = layout)\n",
    "plotly.tools.set_credentials_file(username='jpar746', api_key='z4DayxsEIqnFEGvEUhPO')\n",
    "py.iplot(fig, filename = 'd3-cloropleth-map')"
   ]
  },
  {
   "cell_type": "markdown",
   "metadata": {},
   "source": [
    "This is a heatmap of the locations of H-1B Data Science Applicants. We can see that majority of these applications are from California, Texax, New Jersey, and New York"
   ]
  },
  {
   "cell_type": "code",
   "execution_count": null,
   "metadata": {},
   "outputs": [],
   "source": []
  }
 ],
 "metadata": {
  "kernelspec": {
   "display_name": "Python 3",
   "language": "python",
   "name": "python3"
  },
  "language_info": {
   "codemirror_mode": {
    "name": "ipython",
    "version": 3
   },
   "file_extension": ".py",
   "mimetype": "text/x-python",
   "name": "python",
   "nbconvert_exporter": "python",
   "pygments_lexer": "ipython3",
   "version": "3.7.0"
  }
 },
 "nbformat": 4,
 "nbformat_minor": 2
}
