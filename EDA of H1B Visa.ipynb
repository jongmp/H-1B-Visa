{
 "cells": [
  {
   "cell_type": "markdown",
   "metadata": {},
   "source": [
    "## Exploratory Data Analysis of H-1B Visas"
   ]
  },
  {
   "cell_type": "markdown",
   "metadata": {},
   "source": [
    "How has Trump's Presidency affected H-1B Visas?"
   ]
  },
  {
   "cell_type": "code",
   "execution_count": 97,
   "metadata": {},
   "outputs": [
    {
     "name": "stdout",
     "output_type": "stream",
     "text": [
      "<class 'pandas.core.frame.DataFrame'>\n",
      "RangeIndex: 654360 entries, 0 to 654359\n",
      "Data columns (total 8 columns):\n",
      "CASE_STATUS              654360 non-null object\n",
      "EMPLOYMENT_START_DATE    654353 non-null object\n",
      "EMPLOYER_NAME            654341 non-null object\n",
      "EMPLOYER_STATE           654287 non-null object\n",
      "JOB_TITLE                654355 non-null object\n",
      "SOC_NAME                 654349 non-null object\n",
      "PREVAILING_WAGE          654357 non-null object\n",
      "PW_UNIT_OF_PAY           654303 non-null object\n",
      "dtypes: object(8)\n",
      "memory usage: 39.9+ MB\n"
     ]
    }
   ],
   "source": [
    "# Importing packages\n",
    "import numpy as np\n",
    "import pandas as pd\n",
    "import matplotlib.pyplot as plt\n",
    "import seaborn as sns\n",
    "\n",
    "dtypes = ['CASE_STATUS','EMPLOYMENT_START_DATE','EMPLOYER_NAME',\n",
    "        'EMPLOYER_STATE','JOB_TITLE','SOC_NAME','PREVAILING_WAGE','PW_UNIT_OF_PAY']\n",
    "colsv2 = []\n",
    "\n",
    "# Importing the Dataset\n",
    "df18 = pd.read_csv('/Users/jpar746/Desktop/Work/h1b18.csv', usecols = cols)\n",
    "df17 = pd.read_csv('/Users/jpar746/Desktop/Work/h1b17.csv', usecols = cols)\n",
    "df16 = pd.read_csv('/Users/jpar746/Desktop/Work/h1b16.csv')\n",
    "df18.info()"
   ]
  },
  {
   "cell_type": "code",
   "execution_count": 98,
   "metadata": {},
   "outputs": [],
   "source": [
    "# Removing columns that are not necessary from data of df18 and df17\n",
    "df17 = df17[['CASE_STATUS','EMPLOYMENT_START_DATE','EMPLOYER_NAME',\n",
    "        'EMPLOYER_STATE','JOB_TITLE','SOC_NAME','PREVAILING_WAGE','PW_UNIT_OF_PAY']]\n",
    "\n",
    "df18 = df18[['CASE_STATUS','EMPLOYMENT_START_DATE','EMPLOYER_NAME',\n",
    "        'EMPLOYER_STATE','JOB_TITLE','SOC_NAME','PREVAILING_WAGE','PW_UNIT_OF_PAY']]\n",
    "\n",
    "# Changing the EMPLOYMENT_START_DATE into a year to comply with 2016 data\n",
    "df18['EMPLOYMENT_START_DATE'] = pd.to_datetime(df18['EMPLOYMENT_START_DATE'], format = '%m/%d/%y')\n",
    "df18['EMPLOYMENT_START_DATE'] = df18['EMPLOYMENT_START_DATE'].apply(lambda x: x.year)\n",
    "\n",
    "df17['EMPLOYMENT_START_DATE'] = pd.to_datetime(df17['EMPLOYMENT_START_DATE'], format = '%Y-%m-%d')\n",
    "df17['EMPLOYMENT_START_DATE'] = df17['EMPLOYMENT_START_DATE'].apply(lambda x: x.year)"
   ]
  },
  {
   "cell_type": "code",
   "execution_count": 99,
   "metadata": {},
   "outputs": [],
   "source": [
    "# Only take years 2017 from df17 and years 2018 from df18\n",
    "df17 = df17.loc[df17['EMPLOYMENT_START_DATE'] == 2017, :]\n",
    "df18 = df18.loc[df18['EMPLOYMENT_START_DATE'] == 2018, :]"
   ]
  },
  {
   "cell_type": "code",
   "execution_count": 100,
   "metadata": {},
   "outputs": [
    {
     "data": {
      "text/plain": [
       "\"\\ndf18 = df18.loc[df18.PW_UNIT_OF_PAY == 'Week', 'PREVAILING_WAGE'].apply(lambda x: x*52)\\ndf18 = df18.loc[df18.PW_UNIT_OF_PAY == 'Bi-Weekly', 'PREVAILING_WAGE'].apply(lambda x: x*26)\\ndf18 = df18.loc[df18.PW_UNIT_OF_PAY == 'Month', 'PREVAILING_WAGE'].apply(lambda x:x*12)\\n\\ndf17.loc[df17.PREVAILING_WAGE == 0, 'PREVAILING_WAGE'] = np.nan\\ndf17.loc[df17.PW_UNIT_OF_PAY == 'Hour', 'PREVAILING_WAGE'] = df17['PREVAILING_WAGE']*1638\\ndf17.loc[df17.PW_UNIT_OF_PAY == 'Week', 'PREVAILING_WAGE'] = df17['PREVAILING_WAGE']*52\\ndf17.loc[df17.PW_UNIT_OF_PAY == 'Bi-Weekly', 'PREVAILING_WAGE'] = df17['PREVAILING_WAGE']*26\\ndf17.loc[df17.PW_UNIT_OF_PAY == 'Month', 'PREVAILING_WAGE'] = df17['PREVAILING_WAGE']*12\""
      ]
     },
     "execution_count": 100,
     "metadata": {},
     "output_type": "execute_result"
    }
   ],
   "source": [
    "# Change PREVAILING WAGE into yearly wages (Split into Year, Week, Month, Hourly, Bi-weekly)\n",
    "# Use apply to save RAM \n",
    "df18['PREVAILING_WAGE'] = df18['PREVAILING_WAGE'].apply(lambda x: str(x).replace(',',''))\n",
    "df18.loc[df18.PREVAILING_WAGE == 0, 'PREVAILING_WAGE'] = np.nan\n",
    "df18.loc[df18.PW_UNIT_OF_PAY == 'Hour', 'PREVAILING_WAGE'] = df18.loc[df18.PW_UNIT_OF_PAY == 'Hour', 'PREVAILING_WAGE'].apply(lambda x:float(x)*1638)\n",
    "df18.loc[df18.PW_UNIT_OF_PAY == 'Week', 'PREVAILING_WAGE'] = df18.loc[df18.PW_UNIT_OF_PAY == 'Week', 'PREVAILING_WAGE'].apply(lambda x:float(x)*52)\n",
    "df18.loc[df18.PW_UNIT_OF_PAY == 'Bi-Weekly', 'PREVAILING_WAGE'] = df18.loc[df18.PW_UNIT_OF_PAY == 'Bi-Weekly', 'PREVAILING_WAGE'].apply(lambda x:float(x)*26)\n",
    "df18.loc[df18.PW_UNIT_OF_PAY == 'Month', 'PREVAILING_WAGE'] = df18.loc[df18.PW_UNIT_OF_PAY == 'Month', 'PREVAILING_WAGE'].apply(lambda x:float(x)*12)\n",
    "\n",
    "df17['PREVAILING_WAGE'] = df17['PREVAILING_WAGE'].apply(lambda x: str(x).replace(',',''))\n",
    "df17.loc[df17.PREVAILING_WAGE == 0, 'PREVAILING_WAGE'] = np.nan\n",
    "df17.loc[df17.PW_UNIT_OF_PAY == 'Hour', 'PREVAILING_WAGE'] = df17.loc[df17.PW_UNIT_OF_PAY == 'Hour', 'PREVAILING_WAGE'].apply(lambda x:float(x)*1638)\n",
    "df17.loc[df17.PW_UNIT_OF_PAY == 'Week', 'PREVAILING_WAGE'] = df17.loc[df17.PW_UNIT_OF_PAY == 'Week', 'PREVAILING_WAGE'].apply(lambda x:float(x)*52)\n",
    "df17.loc[df17.PW_UNIT_OF_PAY == 'Bi-Weekly', 'PREVAILING_WAGE'] = df17.loc[df17.PW_UNIT_OF_PAY == 'Bi-Weekly', 'PREVAILING_WAGE'].apply(lambda x:float(x)*26)\n",
    "df17.loc[df17.PW_UNIT_OF_PAY == 'Month', 'PREVAILING_WAGE'] = df17.loc[df17.PW_UNIT_OF_PAY == 'Month', 'PREVAILING_WAGE'].apply(lambda x:float(x)*12)\n",
    "\n",
    "'''\n",
    "df18 = df18.loc[df18.PW_UNIT_OF_PAY == 'Week', 'PREVAILING_WAGE'].apply(lambda x: x*52)\n",
    "df18 = df18.loc[df18.PW_UNIT_OF_PAY == 'Bi-Weekly', 'PREVAILING_WAGE'].apply(lambda x: x*26)\n",
    "df18 = df18.loc[df18.PW_UNIT_OF_PAY == 'Month', 'PREVAILING_WAGE'].apply(lambda x:x*12)\n",
    "\n",
    "df17.loc[df17.PREVAILING_WAGE == 0, 'PREVAILING_WAGE'] = np.nan\n",
    "df17.loc[df17.PW_UNIT_OF_PAY == 'Hour', 'PREVAILING_WAGE'] = df17['PREVAILING_WAGE']*1638\n",
    "df17.loc[df17.PW_UNIT_OF_PAY == 'Week', 'PREVAILING_WAGE'] = df17['PREVAILING_WAGE']*52\n",
    "df17.loc[df17.PW_UNIT_OF_PAY == 'Bi-Weekly', 'PREVAILING_WAGE'] = df17['PREVAILING_WAGE']*26\n",
    "df17.loc[df17.PW_UNIT_OF_PAY == 'Month', 'PREVAILING_WAGE'] = df17['PREVAILING_WAGE']*12'''\n"
   ]
  },
  {
   "cell_type": "code",
   "execution_count": 101,
   "metadata": {},
   "outputs": [],
   "source": [
    "# Remove PW_UNIT_OF_PAY \n",
    "df17 = df17[['CASE_STATUS','EMPLOYMENT_START_DATE','EMPLOYER_NAME',\n",
    "        'EMPLOYER_STATE','JOB_TITLE','SOC_NAME','PREVAILING_WAGE']]\n",
    "\n",
    "df18 = df18[['CASE_STATUS','EMPLOYMENT_START_DATE','EMPLOYER_NAME',\n",
    "        'EMPLOYER_STATE','JOB_TITLE','SOC_NAME','PREVAILING_WAGE']]"
   ]
  },
  {
   "cell_type": "code",
   "execution_count": 102,
   "metadata": {},
   "outputs": [],
   "source": [
    "# Dictionary of all States and Shortened State\n",
    "states = {\"AL\":\"Alabama\",\"AK\":\"Alaska\",\"AZ\":\"Arizona\",\"AR\":\"Arkansas\",\"CA\":\"California\",\"CO\":\"Colorado\",\n",
    "          \"CT\":\"Connecticut\",\"DE\":\"Delaware\",\"FL\":\"Florida\",\"GA\":\"Georgia\",\"HI\":\"Hawaii\",\"ID\":\"Idaho\",\n",
    "          \"IL\":\"Illinois\",\"IN\":\"Indiana\",\"IA\":\"Iowa\",\"KS\":\"Kansas\",\"KY\":\"Kentucky\",\"LA\":\"Louisiana\",\n",
    "          \"ME\":\"Maine\",\"MD\":\"Maryland\",\"MA\":\"Massachusetts\",\"MI\":\"Michigan\",\"MN\":\"Minnesota\",\"MS\":\"Mississippi\",\n",
    "          \"MO\":\"Missouri\",\"MT\":\"Montana\",\"NE\":\"Nebraska\",\"NV\":\"Nevada\",\"NH\":\"New Hampshire\",\"NJ\":\"New Jersey\",\n",
    "          \"NM\":\"New Mexico\",\"NY\":\"New York\",\"NC\":\"North Carolina\",\"ND\":\"North Dakota\",\"OH\":\"Ohio\",\"OK\":\"Oklahoma\",\n",
    "          \"OR\":\"Oregon\",\"PA\":\"Pennsylvania\",\"RI\":\"Rhode Island\",\"SC\":\"South Carolina\",\"SD\":\"South Dakota\",\n",
    "          \"TN\":\"Tennessee\",\"TX\":\"Texas\",\"UT\":\"Utah\",\"VT\":\"Vermont\",\"VA\":\"Virginia\",\"WA\":\"Washington\",\n",
    "          \"WV\":\"West Virginia\",\"WI\":\"Wisconsin\",\"WY\":\"Wyoming\"}\n",
    "states = dict((v.upper(), k.upper()) for k, v in states.items())\n",
    "\n",
    "# Remove the city from the WORKSITE \n",
    "df16['WORKSITE'] = df16['WORKSITE'].apply(lambda x: x.split(',')[1])\n",
    "# Removing the space infront of the states from WORKSITE\n",
    "df16['WORKSITE'] = df16['WORKSITE'].apply(lambda x: x[1:])\n",
    "# Replace Worksite with shortened States\n",
    "df16['WORKSITE'].replace(states, inplace = True)\n",
    "# Replace WORKSITE with EMPLOYER_STATE\n",
    "df16.rename(columns={'YEAR':'EMPLOYMENT_START_DATE','WORKSITE':'EMPLOYER_STATE'}, inplace=True)\n",
    "\n",
    "\n",
    "# Removing unnecessary columns of df16\n",
    "df16 = df16[['CASE_STATUS','EMPLOYMENT_START_DATE','EMPLOYER_NAME',\n",
    "        'EMPLOYER_STATE','JOB_TITLE','SOC_NAME','PREVAILING_WAGE']]"
   ]
  },
  {
   "cell_type": "code",
   "execution_count": 103,
   "metadata": {},
   "outputs": [
    {
     "name": "stdout",
     "output_type": "stream",
     "text": [
      "           CASE_STATUS  EMPLOYMENT_START_DATE  \\\n",
      "0  CERTIFIED-WITHDRAWN                 2016.0   \n",
      "1  CERTIFIED-WITHDRAWN                 2016.0   \n",
      "2  CERTIFIED-WITHDRAWN                 2016.0   \n",
      "3  CERTIFIED-WITHDRAWN                 2016.0   \n",
      "4            WITHDRAWN                 2016.0   \n",
      "\n",
      "                                       EMPLOYER_NAME EMPLOYER_STATE  \\\n",
      "0                             UNIVERSITY OF MICHIGAN             MI   \n",
      "1                             GOODMAN NETWORKS, INC.             TX   \n",
      "2                          PORTS AMERICA GROUP, INC.             NJ   \n",
      "3  GATES CORPORATION, A WHOLLY-OWNED SUBSIDIARY O...             CO   \n",
      "4                          PEABODY INVESTMENTS CORP.             MO   \n",
      "\n",
      "                      JOB_TITLE                       SOC_NAME PREVAILING_WAGE  \n",
      "0  POSTDOCTORAL RESEARCH FELLOW  BIOCHEMISTS AND BIOPHYSICISTS           36067  \n",
      "1       CHIEF OPERATING OFFICER               CHIEF EXECUTIVES          242674  \n",
      "2         CHIEF PROCESS OFFICER               CHIEF EXECUTIVES          193066  \n",
      "3   REGIONAL PRESIDEN, AMERICAS               CHIEF EXECUTIVES          220314  \n",
      "4  PRESIDENT MONGOLIA AND INDIA               CHIEF EXECUTIVES          157518  \n"
     ]
    }
   ],
   "source": [
    "# Combining df16, df17, df18 into one dataframe\n",
    "df = pd.concat([df16,df17,df18])\n",
    "print(df.head())"
   ]
  },
  {
   "cell_type": "code",
   "execution_count": 104,
   "metadata": {},
   "outputs": [],
   "source": [
    "# Cleaning the SOC_NAME \n",
    "df['SOC_NAME'] = df['SOC_NAME'].apply(lambda x: str(x).upper())\n",
    "df['SOC_NAME'] = df['SOC_NAME'].apply(lambda x:str(x).replace('COMPUTER SYSTEMS ANALYSTS','COMPUTER SYSTEMS ANALYST'))\n"
   ]
  },
  {
   "cell_type": "code",
   "execution_count": 105,
   "metadata": {},
   "outputs": [
    {
     "name": "stdout",
     "output_type": "stream",
     "text": [
      "2016.0    647803\n",
      "2015.0    618727\n",
      "2018.0    556038\n",
      "2017.0    530371\n",
      "2014.0    519427\n",
      "2013.0    442114\n",
      "2012.0    415607\n",
      "2011.0    358767\n",
      "Name: EMPLOYMENT_START_DATE, dtype: int64\n"
     ]
    }
   ],
   "source": [
    "# Looking at the number of applications per year \n",
    "year_app = df['EMPLOYMENT_START_DATE'].value_counts()\n",
    "print(year_app)"
   ]
  },
  {
   "cell_type": "markdown",
   "metadata": {},
   "source": [
    "From the series above, we can see that there are about 500,000 applicants every year. \n",
    "We can also see that there has been a decrease in the number of applications in 2017 and 2018 (Trump's Presidency) The figure below highlights the fall in the number of applicants in Trump's Presidency"
   ]
  },
  {
   "cell_type": "code",
   "execution_count": 106,
   "metadata": {},
   "outputs": [
    {
     "data": {
      "image/png": "[encoded data removed]",
      "text/plain": [
       "<Figure size 432x288 with 1 Axes>"
      ]
     },
     "metadata": {
      "needs_background": "light"
     },
     "output_type": "display_data"
    }
   ],
   "source": [
    "# Bar Chart of the number of applications\n",
    "year_app = year_app.sort_index()\n",
    "obama = pd.Series(year_app.values[0:6], index = year_app.index[0:6])\n",
    "trump = pd.Series(year_app.values[6:], index = year_app.index[6:])\n",
    "\n",
    "fig, ax = plt.subplots()\n",
    "plt.bar(obama.index, obama.values, align = 'center', alpha = 0.7,  linewidth=0)\n",
    "plt.bar(trump.index, trump.values, align = 'center', alpha = 0.7,  linewidth=0, color = '#FF0000')\n",
    "plt.legend(['Obama\\'s Presidency','Trump\\'s Presidency'],loc=2)\n",
    "plt.title('The Number of Applications from 2011 to 2018')\n",
    "plt.savefig('no of applications.png')"
   ]
  },
  {
   "cell_type": "code",
   "execution_count": 107,
   "metadata": {},
   "outputs": [
    {
     "data": {
      "text/html": [
       "<script type=\"text/javascript\">window.PlotlyConfig = {MathJaxConfig: 'local'};</script><script type=\"text/javascript\">if (window.MathJax) {MathJax.Hub.Config({SVG: {font: \"STIX-Web\"}});}</script><script>requirejs.config({paths: { 'plotly': ['https://cdn.plot.ly/plotly-latest.min']},});if(!window._Plotly) {require(['plotly'],function(plotly) {window._Plotly=plotly;});}</script>"
      ],
      "text/vnd.plotly.v1+html": [
       "<script type=\"text/javascript\">window.PlotlyConfig = {MathJaxConfig: 'local'};</script><script type=\"text/javascript\">if (window.MathJax) {MathJax.Hub.Config({SVG: {font: \"STIX-Web\"}});}</script><script>requirejs.config({paths: { 'plotly': ['https://cdn.plot.ly/plotly-latest.min']},});if(!window._Plotly) {require(['plotly'],function(plotly) {window._Plotly=plotly;});}</script>"
      ]
     },
     "metadata": {},
     "output_type": "display_data"
    },
    {
     "data": {
      "application/vnd.plotly.v1+json": {
       "config": {
        "linkText": "Export to plot.ly",
        "plotlyServerURL": "https://plot.ly",
        "showLink": false
       },
       "data": [
        {
         "autocolorscale": false,
         "colorbar": {
          "title": {
           "text": ""
          }
         },
         "colorscale": [
          [
           0,
           "rgb(242,240,247)"
          ],
          [
           0.2,
           "rgb(218,218,235)"
          ],
          [
           0.4,
           "rgb(188,189,220)"
          ],
          [
           0.6,
           "rgb(158,154,200)"
          ],
          [
           0.8,
           "rgb(117,107,177)"
          ],
          [
           1,
           "rgb(84,39,143)"
          ]
         ],
         "locationmode": "USA-states",
         "locations": [
          "AK",
          "AL",
          "AR",
          "AS",
          "AZ",
          "CA",
          "CO",
          "CT",
          "DC",
          "DE",
          "DISTRICT OF COLUMBIA",
          "FL",
          "GA",
          "GU",
          "HI",
          "IA",
          "ID",
          "IL",
          "IN",
          "KS",
          "KY",
          "LA",
          "MA",
          "MD",
          "ME",
          "MI",
          "MN",
          "MO",
          "MP",
          "MS",
          "MT",
          "NA",
          "NC",
          "ND",
          "NE",
          "NH",
          "NJ",
          "NM",
          "NV",
          "NY",
          "OH",
          "OK",
          "OR",
          "PA",
          "PR",
          "PUERTO RICO",
          "RI",
          "SC",
          "SD",
          "TN",
          "TX",
          "UT",
          "VA",
          "VI",
          "VT",
          "WA",
          "WI",
          "WV",
          "WY"
         ],
         "marker": {
          "line": {
           "color": "rgb(255,255,255)",
           "width": 2
          }
         },
         "type": "choropleth",
         "uid": "43ece7ef-b3ab-467d-a98b-bf80407f5a0c",
         "z": [
          1562,
          12604,
          19108,
          1,
          49644,
          745960,
          38580,
          60506,
          3588,
          22618,
          22708,
          138036,
          132051,
          525,
          4330,
          20703,
          5375,
          228023,
          36141,
          17377,
          16402,
          13872,
          158243,
          94849,
          4807,
          127983,
          57330,
          44710,
          586,
          5147,
          1208,
          3604,
          110261,
          3557,
          12579,
          11739,
          348866,
          6887,
          9602,
          368837,
          92633,
          12614,
          26690,
          162043,
          981,
          1452,
          13412,
          15946,
          2318,
          36191,
          439099,
          16969,
          123257,
          78,
          2642,
          138320,
          38765,
          3698,
          1158
         ]
        }
       ],
       "layout": {
        "geo": {
         "lakecolor": "rgb(255, 255, 255)",
         "projection": {
          "type": "albers usa"
         },
         "scope": "usa",
         "showlakes": true
        },
        "title": {
         "text": "H1B Visa Applicants"
        }
       }
      },
      "text/html": [
       "<div id=\"e75e9705-73f5-43f8-99e4-4fcd5cbaa351\" style=\"height: 525px; width: 100%;\" class=\"plotly-graph-div\"></div><script type=\"text/javascript\">require([\"plotly\"], function(Plotly) { window.PLOTLYENV=window.PLOTLYENV || {};window.PLOTLYENV.BASE_URL=\"https://plot.ly\";\n",
       "if (document.getElementById(\"e75e9705-73f5-43f8-99e4-4fcd5cbaa351\")) {\n",
       "    Plotly.newPlot(\"e75e9705-73f5-43f8-99e4-4fcd5cbaa351\", [{\"autocolorscale\": false, \"colorbar\": {\"title\": {\"text\": \"\"}}, \"colorscale\": [[0.0, \"rgb(242,240,247)\"], [0.2, \"rgb(218,218,235)\"], [0.4, \"rgb(188,189,220)\"], [0.6, \"rgb(158,154,200)\"], [0.8, \"rgb(117,107,177)\"], [1.0, \"rgb(84,39,143)\"]], \"locationmode\": \"USA-states\", \"locations\": [\"AK\", \"AL\", \"AR\", \"AS\", \"AZ\", \"CA\", \"CO\", \"CT\", \"DC\", \"DE\", \"DISTRICT OF COLUMBIA\", \"FL\", \"GA\", \"GU\", \"HI\", \"IA\", \"ID\", \"IL\", \"IN\", \"KS\", \"KY\", \"LA\", \"MA\", \"MD\", \"ME\", \"MI\", \"MN\", \"MO\", \"MP\", \"MS\", \"MT\", \"NA\", \"NC\", \"ND\", \"NE\", \"NH\", \"NJ\", \"NM\", \"NV\", \"NY\", \"OH\", \"OK\", \"OR\", \"PA\", \"PR\", \"PUERTO RICO\", \"RI\", \"SC\", \"SD\", \"TN\", \"TX\", \"UT\", \"VA\", \"VI\", \"VT\", \"WA\", \"WI\", \"WV\", \"WY\"], \"marker\": {\"line\": {\"color\": \"rgb(255,255,255)\", \"width\": 2}}, \"z\": [1562.0, 12604.0, 19108.0, 1.0, 49644.0, 745960.0, 38580.0, 60506.0, 3588.0, 22618.0, 22708.0, 138036.0, 132051.0, 525.0, 4330.0, 20703.0, 5375.0, 228023.0, 36141.0, 17377.0, 16402.0, 13872.0, 158243.0, 94849.0, 4807.0, 127983.0, 57330.0, 44710.0, 586.0, 5147.0, 1208.0, 3604.0, 110261.0, 3557.0, 12579.0, 11739.0, 348866.0, 6887.0, 9602.0, 368837.0, 92633.0, 12614.0, 26690.0, 162043.0, 981.0, 1452.0, 13412.0, 15946.0, 2318.0, 36191.0, 439099.0, 16969.0, 123257.0, 78.0, 2642.0, 138320.0, 38765.0, 3698.0, 1158.0], \"type\": \"choropleth\", \"uid\": \"43ece7ef-b3ab-467d-a98b-bf80407f5a0c\"}], {\"geo\": {\"lakecolor\": \"rgb(255, 255, 255)\", \"projection\": {\"type\": \"albers usa\"}, \"scope\": \"usa\", \"showlakes\": true}, \"title\": {\"text\": \"H1B Visa Applicants\"}}, {\"showLink\": false, \"linkText\": \"Export to plot.ly\", \"plotlyServerURL\": \"https://plot.ly\"}); \n",
       "}\n",
       "});</script><script type=\"text/javascript\">window.addEventListener(\"resize\", function(){if (document.getElementById(\"e75e9705-73f5-43f8-99e4-4fcd5cbaa351\")) {window._Plotly.Plots.resize(document.getElementById(\"e75e9705-73f5-43f8-99e4-4fcd5cbaa351\"));};})</script>"
      ],
      "text/vnd.plotly.v1+html": [
       "<div id=\"e75e9705-73f5-43f8-99e4-4fcd5cbaa351\" style=\"height: 525px; width: 100%;\" class=\"plotly-graph-div\"></div><script type=\"text/javascript\">require([\"plotly\"], function(Plotly) { window.PLOTLYENV=window.PLOTLYENV || {};window.PLOTLYENV.BASE_URL=\"https://plot.ly\";\n",
       "if (document.getElementById(\"e75e9705-73f5-43f8-99e4-4fcd5cbaa351\")) {\n",
       "    Plotly.newPlot(\"e75e9705-73f5-43f8-99e4-4fcd5cbaa351\", [{\"autocolorscale\": false, \"colorbar\": {\"title\": {\"text\": \"\"}}, \"colorscale\": [[0.0, \"rgb(242,240,247)\"], [0.2, \"rgb(218,218,235)\"], [0.4, \"rgb(188,189,220)\"], [0.6, \"rgb(158,154,200)\"], [0.8, \"rgb(117,107,177)\"], [1.0, \"rgb(84,39,143)\"]], \"locationmode\": \"USA-states\", \"locations\": [\"AK\", \"AL\", \"AR\", \"AS\", \"AZ\", \"CA\", \"CO\", \"CT\", \"DC\", \"DE\", \"DISTRICT OF COLUMBIA\", \"FL\", \"GA\", \"GU\", \"HI\", \"IA\", \"ID\", \"IL\", \"IN\", \"KS\", \"KY\", \"LA\", \"MA\", \"MD\", \"ME\", \"MI\", \"MN\", \"MO\", \"MP\", \"MS\", \"MT\", \"NA\", \"NC\", \"ND\", \"NE\", \"NH\", \"NJ\", \"NM\", \"NV\", \"NY\", \"OH\", \"OK\", \"OR\", \"PA\", \"PR\", \"PUERTO RICO\", \"RI\", \"SC\", \"SD\", \"TN\", \"TX\", \"UT\", \"VA\", \"VI\", \"VT\", \"WA\", \"WI\", \"WV\", \"WY\"], \"marker\": {\"line\": {\"color\": \"rgb(255,255,255)\", \"width\": 2}}, \"z\": [1562.0, 12604.0, 19108.0, 1.0, 49644.0, 745960.0, 38580.0, 60506.0, 3588.0, 22618.0, 22708.0, 138036.0, 132051.0, 525.0, 4330.0, 20703.0, 5375.0, 228023.0, 36141.0, 17377.0, 16402.0, 13872.0, 158243.0, 94849.0, 4807.0, 127983.0, 57330.0, 44710.0, 586.0, 5147.0, 1208.0, 3604.0, 110261.0, 3557.0, 12579.0, 11739.0, 348866.0, 6887.0, 9602.0, 368837.0, 92633.0, 12614.0, 26690.0, 162043.0, 981.0, 1452.0, 13412.0, 15946.0, 2318.0, 36191.0, 439099.0, 16969.0, 123257.0, 78.0, 2642.0, 138320.0, 38765.0, 3698.0, 1158.0], \"type\": \"choropleth\", \"uid\": \"43ece7ef-b3ab-467d-a98b-bf80407f5a0c\"}], {\"geo\": {\"lakecolor\": \"rgb(255, 255, 255)\", \"projection\": {\"type\": \"albers usa\"}, \"scope\": \"usa\", \"showlakes\": true}, \"title\": {\"text\": \"H1B Visa Applicants\"}}, {\"showLink\": false, \"linkText\": \"Export to plot.ly\", \"plotlyServerURL\": \"https://plot.ly\"}); \n",
       "}\n",
       "});</script><script type=\"text/javascript\">window.addEventListener(\"resize\", function(){if (document.getElementById(\"e75e9705-73f5-43f8-99e4-4fcd5cbaa351\")) {window._Plotly.Plots.resize(document.getElementById(\"e75e9705-73f5-43f8-99e4-4fcd5cbaa351\"));};})</script>"
      ]
     },
     "metadata": {},
     "output_type": "display_data"
    }
   ],
   "source": [
    "# Heatmap of U.S. H1B visa applicants\n",
    "# Import statements \n",
    "from plotly.offline import download_plotlyjs, init_notebook_mode, plot, iplot\n",
    "init_notebook_mode(connected=True)\n",
    "import plotly as plotly\n",
    "import plotly.plotly as py\n",
    "import plotly.graph_objs as go\n",
    "import plotly.io as pio\n",
    "\n",
    "# Organizing by state \n",
    "df_heatmap = df.groupby('EMPLOYER_STATE')['CASE_STATUS'].count()\n",
    "\n",
    "scl = [\n",
    "    [0.0, 'rgb(242,240,247)'],\n",
    "    [0.2, 'rgb(218,218,235)'],\n",
    "    [0.4, 'rgb(188,189,220)'],\n",
    "    [0.6, 'rgb(158,154,200)'],\n",
    "    [0.8, 'rgb(117,107,177)'],\n",
    "    [1.0, 'rgb(84,39,143)']\n",
    "]\n",
    "\n",
    "data = [go.Choropleth(\n",
    "    colorscale = scl,\n",
    "    autocolorscale = False,\n",
    "    locations = df_heatmap.index,\n",
    "    z = df_heatmap.values.astype(float),\n",
    "    locationmode = 'USA-states',\n",
    "    marker = go.choropleth.Marker(\n",
    "        line = go.choropleth.marker.Line(\n",
    "            color = 'rgb(255,255,255)',\n",
    "            width = 2\n",
    "        )),\n",
    "    colorbar = go.choropleth.ColorBar(\n",
    "        title = \"\")\n",
    ")]\n",
    "\n",
    "layout = go.Layout(\n",
    "    title = go.layout.Title(\n",
    "        text = 'H1B Visa Applicants'\n",
    "    ),\n",
    "    geo = go.layout.Geo(\n",
    "        scope = 'usa',\n",
    "        projection = go.layout.geo.Projection(type = 'albers usa'),\n",
    "        showlakes = True,\n",
    "        lakecolor = 'rgb(255, 255, 255)'),\n",
    ")\n",
    "\n",
    "fig = go.Figure(data = data, layout = layout)\n",
    "plotly.tools.set_credentials_file(username='jpar746', api_key='z4DayxsEIqnFEGvEUhPO')\n",
    "plotly.offline.iplot(fig, filename = 'd3-cloropleth-map')"
   ]
  },
  {
   "cell_type": "markdown",
   "metadata": {},
   "source": [
    "This choropleth map highlights the location of applicants. From the figure, we can see that the majority of the H-1B visa applicants are applying from California, New York, and Texas. \n"
   ]
  },
  {
   "cell_type": "code",
   "execution_count": 108,
   "metadata": {},
   "outputs": [
    {
     "name": "stdout",
     "output_type": "stream",
     "text": [
      "CERTIFIED                                             3615378\n",
      "CERTIFIED-WITHDRAWN                                    241703\n",
      "WITHDRAWN                                              122466\n",
      "DENIED                                                 109289\n",
      "PENDING QUALITY AND COMPLIANCE REVIEW - UNASSIGNED         15\n",
      "REJECTED                                                    2\n",
      "INVALIDATED                                                 1\n",
      "Name: CASE_STATUS, dtype: int64\n",
      "2.67%\n"
     ]
    }
   ],
   "source": [
    "# Comparing the number of applications that are accepted or denied (Ignore withdrawn)\n",
    "accept_arr = df['CASE_STATUS'].value_counts()\n",
    "print(accept_arr)\n",
    "accept_val = list(accept_arr)[0:4]\n",
    "accept_label = list(accept_arr.index)[0:4]\n",
    "\n",
    "# Out of all the applications we can see that only a small percentage are denied (Exactly 2.67%)\n",
    "denied = (accept_arr['DENIED'] / df.shape[0]).round(4)\n",
    "print(str(denied*100) + '%')"
   ]
  },
  {
   "cell_type": "code",
   "execution_count": 109,
   "metadata": {},
   "outputs": [
    {
     "data": {
      "image/png": "[encoded data removed]",
      "text/plain": [
       "<Figure size 432x288 with 1 Axes>"
      ]
     },
     "metadata": {},
     "output_type": "display_data"
    }
   ],
   "source": [
    "# Pie chart of accepted and denied applications \n",
    "fig, ax = plt.subplots()\n",
    "ax.pie(accept_val, explode = (0,0,0,0.25), labels = accept_label, autopct = '%1.1f%%',\n",
    "       pctdistance=1.2, labeldistance=1.4, wedgeprops={'alpha':0.7})\n",
    "ax.axis('equal')\n",
    "plt.title('Case Status')\n",
    "plt.show()"
   ]
  },
  {
   "cell_type": "markdown",
   "metadata": {},
   "source": [
    "It appears that the percentage of cases denied is really low. Upon further research, the denied percentage is not indicative of all the applications denied in the H-1B application process. Additional information is provided by the https://www.uscis.gov/sites/default/files/USCIS/Resources/Reports%20and%20Studies/Immigration%20Forms%20Data/BAHA/non-immigrant-worker-rfe-h-1b-quarterly-data-fy2015-fy2019-q1.pdf\n"
   ]
  },
  {
   "cell_type": "code",
   "execution_count": 110,
   "metadata": {},
   "outputs": [
    {
     "name": "stdout",
     "output_type": "stream",
     "text": [
      "2011    8.119476\n",
      "2012    5.075949\n",
      "2013    2.742732\n",
      "2014    2.290216\n",
      "2015    1.765399\n",
      "2016    1.416326\n",
      "2017    1.406563\n",
      "2018    1.345771\n",
      "dtype: float64\n"
     ]
    }
   ],
   "source": [
    "# Looking at the percentage denied over the years \n",
    "accept_per = df.groupby('EMPLOYMENT_START_DATE')['CASE_STATUS'].value_counts()\n",
    "year_per = []\n",
    "year = []\n",
    "for i in range(2011,2019):\n",
    "    year_per.append((accept_per.loc[[i,'DENIED'],'DENIED'].values[0] / accept_per.loc[[i]].sum())*100)\n",
    "    year.append(i)\n",
    "denied_per = pd.Series(year_per, index = year)\n",
    "print(denied_per)"
   ]
  },
  {
   "cell_type": "code",
   "execution_count": 111,
   "metadata": {},
   "outputs": [
    {
     "data": {
      "image/png": "[encoded data removed]",
      "text/plain": [
       "<Figure size 432x288 with 1 Axes>"
      ]
     },
     "metadata": {
      "needs_background": "light"
     },
     "output_type": "display_data"
    }
   ],
   "source": [
    "# Scatter plot to look at the increase and decrease in denied applications\n",
    "plt.plot(denied_per.index, denied_per.values, 'bo', linestyle='dashed')\n",
    "plt.title('Percentage of Denied Applicants')\n",
    "plt.xlabel('Year')\n",
    "plt.ylabel('% of Denied Applicants')\n",
    "plt.show()"
   ]
  },
  {
   "cell_type": "markdown",
   "metadata": {},
   "source": [
    "The data from the Department of Labor seems to have been collected after an initial screening from the USCIS\n",
    "United States Citizenship and Immigration Service. The data shown by the USCIS indicates an increase in the\n",
    "percentage of rejected applications\n",
    "\n",
    "https://www.uscis.gov/sites/default/files/USCIS/Resources/Reports%20and%20Studies/Immigration%20Forms%20Data/BAHA/non-immigrant-worker-rfe-h-1b-quarterly-data-fy2015-fy2019-q1.pdf\n"
   ]
  },
  {
   "cell_type": "code",
   "execution_count": 112,
   "metadata": {},
   "outputs": [
    {
     "data": {
      "image/png": "[encoded data removed]",
      "text/plain": [
       "<Figure size 432x288 with 1 Axes>"
      ]
     },
     "metadata": {
      "needs_background": "light"
     },
     "output_type": "display_data"
    }
   ],
   "source": [
    "uscis = pd.Series([95.7,93.9,92.6,84.5], index=[2015,2016,2017,2018])\n",
    "fig, ax = plt.subplots()\n",
    "bars = plt.bar(uscis.index, uscis.values, align = 'center', alpha = 0.7)\n",
    "plt.xticks([2015,2016,2017,2018])\n",
    "# Removing the frame\n",
    "for spine in plt.gca().spines.values():\n",
    "    spine.set_visible(False)\n",
    "# Removing the small ticks \n",
    "ax.tick_params(axis=u'both', which=u'both',length=0)\n",
    "# Removing Y ticks \n",
    "ax.set_yticklabels([])\n",
    "# Placing the values above the bar \n",
    "for rect in bars:\n",
    "        height = rect.get_height()\n",
    "        ax.text(rect.get_x() + rect.get_width()/2., 0.9*height, str(height)+'%',\n",
    "                ha='center', va='bottom', color = 'w')\n",
    "bars[2].set_color('#FF0000')\n",
    "bars[3].set_color('#FF0000')\n",
    "plt.title('Percentages of H-1B Accepted')\n",
    "plt.savefig('perc of applications.png')\n",
    "plt.show()"
   ]
  },
  {
   "cell_type": "code",
   "execution_count": 113,
   "metadata": {},
   "outputs": [
    {
     "name": "stdout",
     "output_type": "stream",
     "text": [
      "INFOSYS LIMITED                                    157815\n",
      "TATA CONSULTANCY SERVICES LIMITED                   89577\n",
      "WIPRO LIMITED                                       57551\n",
      "DELOITTE CONSULTING LLP                             56975\n",
      "IBM INDIA PRIVATE LIMITED                           44229\n",
      "ACCENTURE LLP                                       43942\n",
      "MICROSOFT CORPORATION                               33738\n",
      "CAPGEMINI AMERICA INC                               29182\n",
      "ERNST & YOUNG U.S. LLP                              28813\n",
      "HCL AMERICA, INC.                                   28065\n",
      "TECH MAHINDRA (AMERICAS),INC.                       23281\n",
      "LARSEN & TOUBRO INFOTECH LIMITED                    21708\n",
      "COGNIZANT TECHNOLOGY SOLUTIONS U.S. CORPORATION     21486\n",
      "GOOGLE INC.                                         20685\n",
      "IBM CORPORATION                                     19758\n",
      "INTEL CORPORATION                                   13712\n",
      "AMAZON CORPORATE LLC                                12631\n",
      "IGATE TECHNOLOGIES INC.                             12564\n",
      "DELOITTE & TOUCHE LLP                               12236\n",
      "COGNIZANT TECHNOLOGY SOLUTIONS US CORP              11071\n",
      "Name: EMPLOYER_NAME, dtype: int64\n"
     ]
    }
   ],
   "source": [
    "# Looking at 20 companies that provide the most H1B visas\n",
    "common_co = df['EMPLOYER_NAME'].value_counts()\n",
    "print(common_co[:20])"
   ]
  },
  {
   "cell_type": "code",
   "execution_count": 114,
   "metadata": {},
   "outputs": [
    {
     "data": {
      "image/png": "[encoded data removed]",
      "text/plain": [
       "<Figure size 432x288 with 1 Axes>"
      ]
     },
     "metadata": {
      "needs_background": "light"
     },
     "output_type": "display_data"
    }
   ],
   "source": [
    "# Bar Chart of companies that provide the most H1B visas\n",
    "common_co_name = list(common_co[0:10].index)\n",
    "common_co_freq = list(common_co[0:10])\n",
    "\n",
    "y_pos = np.arange(len(common_co_name))\n",
    "\n",
    "# Plotting a horizontal bar chart\n",
    "fig, ax = plt.subplots()\n",
    "bars = plt.barh(y_pos, common_co_freq, align = 'center', alpha = 0.7)\n",
    "\n",
    "# Labeling the bar chart\n",
    "plt.yticks(y_pos, common_co_name)\n",
    "\n",
    "# Removing the frame for a cleaner visual\n",
    "for spine in plt.gca().spines.values():\n",
    "    spine.set_visible(False)\n",
    "    \n",
    "# Removing the small y ticks\n",
    "ax.tick_params(axis=u'both', which=u'both',length=0)\n",
    "\n",
    "# Directly labeling the values of the bar chart \n",
    "i = 0\n",
    "for bar in bars:\n",
    "    plt.gca().text(bar.get_x() + bar.get_width()-21000, i-0.15, str(int(bar.get_width())), \n",
    "                 ha='left', color='w', fontsize=11)\n",
    "    i = i+1\n",
    "    \n",
    "# Removing the x-ticks\n",
    "plt.tick_params(axis='x', which='both', bottom=False, top=False, labelbottom=False)\n",
    "\n",
    "# Setting the title \n",
    "plt.title('Companies that provide the most H1B Visas')\n",
    "plt.savefig('co of applications.png', bbox_inches='tight')"
   ]
  },
  {
   "cell_type": "markdown",
   "metadata": {},
   "source": [
    "The figure above illustrates the ten companies that have submitted the most number of H-1B Visas. We can observe that the top three companies are all from the technology sector. In fact, most of the companies that apply for H-1B visas are from the technology sector."
   ]
  },
  {
   "cell_type": "code",
   "execution_count": 115,
   "metadata": {},
   "outputs": [
    {
     "name": "stdout",
     "output_type": "stream",
     "text": [
      "INFOSYS LIMITED                                    33245\n",
      "TATA CONSULTANCY SERVICES LIMITED                  16553\n",
      "WIPRO LIMITED                                      12201\n",
      "IBM INDIA PRIVATE LIMITED                          10693\n",
      "ACCENTURE LLP                                       9605\n",
      "DELOITTE CONSULTING LLP                             7607\n",
      "HCL AMERICA, INC.                                   6110\n",
      "MICROSOFT CORPORATION                               4575\n",
      "IGATE TECHNOLOGIES INC.                             4554\n",
      "ERNST & YOUNG U.S. LLP                              4144\n",
      "GOOGLE INC.                                         3571\n",
      "COGNIZANT TECHNOLOGY SOLUTIONS U.S. CORPORATION     3522\n",
      "LARSEN & TOUBRO INFOTECH LIMITED                    3513\n",
      "TECH MAHINDRA (AMERICAS),INC.                       3305\n",
      "IBM CORPORATION                                     2409\n",
      "AMAZON CORPORATE LLC                                2147\n",
      "UST GLOBAL INC                                      2130\n",
      "TECH MAHINDRA (AMERICAS), INC.                      2090\n",
      "INTEL CORPORATION                                   1694\n",
      "JPMORGAN CHASE & CO.                                1634\n",
      "Name: EMPLOYER_NAME, dtype: int64\n"
     ]
    }
   ],
   "source": [
    "# Number of H-1B Visa Applicants hired by each company in 2015\n",
    "df15 = df[df['EMPLOYMENT_START_DATE']==2015]\n",
    "hire15 = df15['EMPLOYER_NAME'].value_counts()\n",
    "print(hire15[0:20])"
   ]
  },
  {
   "cell_type": "code",
   "execution_count": 116,
   "metadata": {},
   "outputs": [
    {
     "data": {
      "image/png": "[encoded data removed]",
      "text/plain": [
       "<Figure size 432x288 with 1 Axes>"
      ]
     },
     "metadata": {
      "needs_background": "light"
     },
     "output_type": "display_data"
    }
   ],
   "source": [
    "# Bar Chart of companies that provide the most H1B visas in 2015\n",
    "hire15_name = list(hire15[0:10].index)\n",
    "hire15_freq = list(hire15[0:10])\n",
    "\n",
    "y_pos = np.arange(len(hire15_name))\n",
    "\n",
    "# Plotting a horizontal bar chart\n",
    "fig, ax = plt.subplots()\n",
    "bars = plt.barh(y_pos, hire15_freq, align = 'center', alpha = 0.7)\n",
    "\n",
    "# Labeling the bar chart\n",
    "plt.yticks(y_pos, hire15_name)\n",
    "\n",
    "# Removing the frame for a cleaner visual\n",
    "for spine in plt.gca().spines.values():\n",
    "    spine.set_visible(False)\n",
    "    \n",
    "# Removing the small y ticks\n",
    "ax.tick_params(axis=u'both', which=u'both',length=0)\n",
    "\n",
    "# Directly labeling the values of the bar chart \n",
    "i = 0\n",
    "for bar in bars:\n",
    "    plt.gca().text(bar.get_x() + bar.get_width()-3650, i-0.15, str(int(bar.get_width())), \n",
    "                 ha='left', color='w', fontsize=11)\n",
    "    i = i+1\n",
    "    \n",
    "# Removing the x-ticks\n",
    "plt.tick_params(axis='x', which='both', bottom=False, top=False, labelbottom=False)\n",
    "\n",
    "# Setting the title \n",
    "plt.title('Number of H-1B Visa Applicants by each company in 2015')\n",
    "plt.savefig('hire15 applications_fi.png', bbox_inches='tight')"
   ]
  },
  {
   "cell_type": "code",
   "execution_count": 117,
   "metadata": {},
   "outputs": [
    {
     "name": "stdout",
     "output_type": "stream",
     "text": [
      "DELOITTE CONSULTING LLP                   13856\n",
      "TATA CONSULTANCY SERVICES LIMITED         13039\n",
      "COGNIZANT TECHNOLOGY SOLUTIONS US CORP    11071\n",
      "INFOSYS LIMITED                            9627\n",
      "GOOGLE LLC                                 5697\n",
      "TECH MAHINDRA (AMERICAS),INC.              5344\n",
      "WIPRO LIMITED                              5192\n",
      "ERNST & YOUNG U.S. LLP                     5179\n",
      "ACCENTURE LLP                              5130\n",
      "CAPGEMINI AMERICA INC                      4908\n",
      "IBM CORPORATION                            4583\n",
      "MICROSOFT CORPORATION                      4436\n",
      "AMAZON.COM SERVICES, INC.                  3721\n",
      "LARSEN & TOUBRO INFOTECH LIMITED           2683\n",
      "SYNTEL INC                                 2674\n",
      "IBM INDIA PRIVATE LIMITED                  2315\n",
      "FACEBOOK, INC.                             2280\n",
      "HCL AMERICA, INC.                          2013\n",
      "JPMORGAN CHASE & CO.                       1669\n",
      "APPLE INC.                                 1565\n",
      "Name: EMPLOYER_NAME, dtype: int64\n"
     ]
    }
   ],
   "source": [
    "# Number of H-1B Visa Applicants hired by each company in 2018\n",
    "df18 = df[df['EMPLOYMENT_START_DATE']==2018]\n",
    "hire18 = df18['EMPLOYER_NAME'].value_counts()\n",
    "print(hire18[0:20])"
   ]
  },
  {
   "cell_type": "code",
   "execution_count": 118,
   "metadata": {},
   "outputs": [
    {
     "data": {
      "image/png": "[encoded data removed]",
      "text/plain": [
       "<Figure size 432x288 with 1 Axes>"
      ]
     },
     "metadata": {
      "needs_background": "light"
     },
     "output_type": "display_data"
    }
   ],
   "source": [
    "# Bar Chart of companies that provide the most H1B visas in 2018\n",
    "hire18_name = list(hire18[0:10].index)\n",
    "hire18_freq = list(hire18[0:10])\n",
    "\n",
    "y_pos = np.arange(len(hire18_name))\n",
    "\n",
    "# Plotting a horizontal bar chart\n",
    "fig, ax = plt.subplots()\n",
    "bars = plt.barh(y_pos, hire18_freq, align = 'center', alpha = 0.7)\n",
    "\n",
    "# Labeling the bar chart\n",
    "plt.yticks(y_pos, hire18_name)\n",
    "\n",
    "# Removing the frame for a cleaner visual\n",
    "for spine in plt.gca().spines.values():\n",
    "    spine.set_visible(False)\n",
    "    \n",
    "# Removing the small y ticks\n",
    "ax.tick_params(axis=u'both', which=u'both',length=0)\n",
    "\n",
    "# Directly labeling the values of the bar chart \n",
    "i = 0\n",
    "for bar in bars:\n",
    "    plt.gca().text(bar.get_x() + bar.get_width()-1700, i-0.15, str(int(bar.get_width())), \n",
    "                 ha='left', color='w', fontsize=11)\n",
    "    i = i+1\n",
    "    \n",
    "# Removing the x-ticks\n",
    "plt.tick_params(axis='x', which='both', bottom=False, top=False, labelbottom=False)\n",
    "\n",
    "# Setting the title \n",
    "plt.title('Number of H-1B Visa Applicants by each company in 2018')\n",
    "plt.savefig('hire18 applications_f.png', bbox_inches='tight')"
   ]
  },
  {
   "cell_type": "code",
   "execution_count": 119,
   "metadata": {},
   "outputs": [
    {
     "name": "stdout",
     "output_type": "stream",
     "text": [
      "['SOFTWARE DEVELOPERS, APPLICATIONS', 'COMPUTER SYSTEMS ANALYST', 'COMPUTER PROGRAMMERS', 'COMPUTER OCCUPATIONS, ALL OTHER', 'SOFTWARE DEVELOPERS, SYSTEMS SOFTWARE', 'MANAGEMENT ANALYSTS', 'ACCOUNTANTS AND AUDITORS', 'FINANCIAL ANALYSTS', 'MECHANICAL ENGINEERS', 'NETWORK AND COMPUTER SYSTEMS ADMINISTRATORS']\n"
     ]
    }
   ],
   "source": [
    "# The 10 most common types of jobs that H1B visa are granted for\n",
    "common_type = df['SOC_NAME'].value_counts()\n",
    "print(list(common_type[:10].index))\n",
    "# From the first 10 jobs, we can see that majority of these jobs are related to technology (computers)"
   ]
  },
  {
   "cell_type": "code",
   "execution_count": 120,
   "metadata": {},
   "outputs": [
    {
     "name": "stdout",
     "output_type": "stream",
     "text": [
      "['PROGRAMMER ANALYST', 'SOFTWARE ENGINEER', 'SOFTWARE DEVELOPER', 'COMPUTER PROGRAMMER', 'SYSTEMS ANALYST', 'BUSINESS ANALYST', 'COMPUTER SYSTEMS ANALYST', 'SENIOR SOFTWARE ENGINEER', 'ASSISTANT PROFESSOR', 'TECHNOLOGY LEAD - US']\n"
     ]
    }
   ],
   "source": [
    "# The 10 most common job titles \n",
    "common_job = df['JOB_TITLE'].value_counts()\n",
    "print(list(common_job[:10].index))"
   ]
  },
  {
   "cell_type": "code",
   "execution_count": 121,
   "metadata": {},
   "outputs": [
    {
     "name": "stdout",
     "output_type": "stream",
     "text": [
      "63503\n"
     ]
    }
   ],
   "source": [
    "# Looking at data science roles (related like business analyst, data analyst, data engineer) for H1B Visas\n",
    "data_science_only = df.loc[df['JOB_TITLE']=='DATA SCIENTIST']\n",
    "bus_analyst = df.loc[df['JOB_TITLE']=='BUSINESS ANALYST']\n",
    "data_analyst = df.loc[df['JOB_TITLE']=='DATA ANALYST']\n",
    "data_eng = df.loc[df['JOB_TITLE']=='DATA ENGINEER']\n",
    "data_science = pd.concat([data_science_only,bus_analyst,data_analyst,data_eng])\n",
    "\n",
    "# Number of data science and similar roles h1b visas granted\n",
    "print(data_science.shape[0])"
   ]
  },
  {
   "cell_type": "markdown",
   "metadata": {},
   "source": [
    "As an aspiring data scientist, I thought that it would be interesting to explore the H-1B application process for data scientist. There were 63,503 applications for data scientists. "
   ]
  },
  {
   "cell_type": "code",
   "execution_count": 122,
   "metadata": {},
   "outputs": [
    {
     "data": {
      "text/plain": [
       "count     4088780.0\n",
       "unique      99463.0\n",
       "top         60000.0\n",
       "freq        10365.0\n",
       "Name: PREVAILING_WAGE, dtype: float64"
      ]
     },
     "execution_count": 122,
     "metadata": {},
     "output_type": "execute_result"
    }
   ],
   "source": [
    "# Looking at the prevailing wages of data science jobs vs other h1b visa jobs\n",
    "data_science['PREVAILING_WAGE'].describe()\n",
    "\n",
    "# Non-data science jobs' salaries\n",
    "not_data_science = df[(df['JOB_TITLE'] != 'DATA SCIENTIST | BUSINESS ANALYST | DATA ANALYST | DATA ENGINEER')]\n",
    "not_data_science['PREVAILING_WAGE'].describe()"
   ]
  },
  {
   "cell_type": "code",
   "execution_count": 123,
   "metadata": {},
   "outputs": [
    {
     "data": {
      "image/png": "[encoded data removed]",
      "text/plain": [
       "<Figure size 432x288 with 1 Axes>"
      ]
     },
     "metadata": {
      "needs_background": "light"
     },
     "output_type": "display_data"
    }
   ],
   "source": [
    "# Boxplot for data science and non data science wages\n",
    "# Turning values into lists for plotting\n",
    "data_science = data_science.reset_index(drop=True)\n",
    "not_data_science = not_data_science.reset_index(drop=True)\n",
    "plot_box_df = pd.concat([not_data_science['PREVAILING_WAGE'],data_science['PREVAILING_WAGE']],\n",
    "                        keys=['Not Data Science','Data Science'],axis=1)\n",
    "\n",
    "sns.boxplot( data = plot_box_df, palette=\"Blues\", showfliers=False)\n",
    "axes = plt.gca()\n",
    "axes.set_ylim([0,150000])\n",
    "plt.title('Wages for Non Data Science and Data Science Jobs')\n",
    "plt.show()"
   ]
  },
  {
   "cell_type": "markdown",
   "metadata": {},
   "source": [
    "By comparing the wages for non data science jobs and data science jobs, It appears that there is not a massive difference in the median and mean wage of data science jobs. Both the median appear to be between 60,000 and 80,000. However, the non data science jobs tend to have a larger interquartile range which could be explained by the diverse jobs that other H-1B applicants had."
   ]
  },
  {
   "cell_type": "code",
   "execution_count": 124,
   "metadata": {},
   "outputs": [
    {
     "name": "stdout",
     "output_type": "stream",
     "text": [
      "High five! You successfully sent some data to your account on plotly. View your plot in your browser at https://plot.ly/~jpar746/0 or inside your plot.ly account where it is named 'd3-cloropleth-map'\n"
     ]
    },
    {
     "name": "stderr",
     "output_type": "stream",
     "text": [
      "/Library/Frameworks/Python.framework/Versions/3.7/lib/python3.7/site-packages/IPython/core/display.py:689: UserWarning:\n",
      "\n",
      "Consider using IPython.display.IFrame instead\n",
      "\n"
     ]
    },
    {
     "data": {
      "text/html": [
       "<iframe id=\"igraph\" scrolling=\"no\" style=\"border:none;\" seamless=\"seamless\" src=\"https://plot.ly/~jpar746/0.embed\" height=\"525px\" width=\"100%\"></iframe>"
      ],
      "text/plain": [
       "<plotly.tools.PlotlyDisplay object>"
      ]
     },
     "execution_count": 124,
     "metadata": {},
     "output_type": "execute_result"
    }
   ],
   "source": [
    "# Location for Data Science jobs (H1B Applicants)\n",
    "ds_heatmap = data_science.groupby('EMPLOYER_STATE')['CASE_STATUS'].count()\n",
    "\n",
    "scl = [\n",
    "    [0.0, 'rgb(242,240,247)'],\n",
    "    [0.2, 'rgb(218,218,235)'],\n",
    "    [0.4, 'rgb(188,189,220)'],\n",
    "    [0.6, 'rgb(158,154,200)'],\n",
    "    [0.8, 'rgb(117,107,177)'],\n",
    "    [1.0, 'rgb(84,39,143)']\n",
    "]\n",
    "\n",
    "data = [go.Choropleth(\n",
    "    colorscale = scl,\n",
    "    autocolorscale = False,\n",
    "    locations = ds_heatmap.index,\n",
    "    z = ds_heatmap.values.astype(float),\n",
    "    locationmode = 'USA-states',\n",
    "    marker = go.choropleth.Marker(\n",
    "        line = go.choropleth.marker.Line(\n",
    "            color = 'rgb(255,255,255)',\n",
    "            width = 2\n",
    "        )),\n",
    "    colorbar = go.choropleth.ColorBar(\n",
    "        title = \"\")\n",
    ")]\n",
    "\n",
    "layout = go.Layout(\n",
    "    title = go.layout.Title(\n",
    "        text = 'H1B Data Science Applicants'\n",
    "    ),\n",
    "    geo = go.layout.Geo(\n",
    "        scope = 'usa',\n",
    "        projection = go.layout.geo.Projection(type = 'albers usa'),\n",
    "        showlakes = True,\n",
    "        lakecolor = 'rgb(255, 255, 255)'),\n",
    ")\n",
    "\n",
    "fig = go.Figure(data = data, layout = layout)\n",
    "plotly.tools.set_credentials_file(username='jpar746', api_key='z4DayxsEIqnFEGvEUhPO')\n",
    "py.iplot(fig, filename = 'd3-cloropleth-map')"
   ]
  },
  {
   "cell_type": "markdown",
   "metadata": {},
   "source": [
    "This is a heatmap of the locations of H-1B Data Science Applicants. We can see that majority of these applications are from California, Texax, New Jersey, and New York"
   ]
  },
  {
   "cell_type": "code",
   "execution_count": null,
   "metadata": {},
   "outputs": [],
   "source": []
  }
 ],
 "metadata": {
  "kernelspec": {
   "display_name": "Python 3",
   "language": "python",
   "name": "python3"
  },
  "language_info": {
   "codemirror_mode": {
    "name": "ipython",
    "version": 3
   },
   "file_extension": ".py",
   "mimetype": "text/x-python",
   "name": "python",
   "nbconvert_exporter": "python",
   "pygments_lexer": "ipython3",
   "version": "3.7.0"
  }
 },
 "nbformat": 4,
 "nbformat_minor": 2
}
